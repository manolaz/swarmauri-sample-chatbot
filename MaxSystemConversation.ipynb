{
 "cells": [
  {
   "cell_type": "markdown",
   "id": "b928702c-b0bd-4971-8e0b-5592f6122c15",
   "metadata": {},
   "source": [
    "# Import Dependencies"
   ]
  },
  {
   "cell_type": "code",
   "execution_count": 12,
   "id": "7f4e7207-eec7-40b6-b2cb-3090eb6cf0e9",
   "metadata": {},
   "outputs": [],
   "source": [
    "from swarmauri.standard.llms.concrete.GroqModel import GroqModel\n",
    "from swarmauri.standard.conversations.concrete.MaxSystemContextConversation import MaxSystemContextConversation\n",
    "from swarmauri.standard.vector_stores.concrete.TfidfVectorStore import TfidfVectorStore\n",
    "from swarmauri.standard.messages.concrete.SystemMessage import SystemMessage\n",
    "from swarmauri.standard.documents.concrete.Document import Document\n",
    "from swarmauri.standard.agents.concrete.SimpleConversationAgent import SimpleConversationAgent\n",
    "import os \n",
    "from dotenv import load_dotenv \n",
    "load_dotenv(); "
   ]
  },
  {
   "cell_type": "code",
   "execution_count": null,
   "id": "b0679690",
   "metadata": {},
   "outputs": [],
   "source": [
    "\n"
   ]
  },
  {
   "cell_type": "code",
   "execution_count": 8,
   "id": "47c50b1d",
   "metadata": {},
   "outputs": [],
   "source": [
    "API_KEY = os.getenv('API_KEY')\n",
    "llm = GroqModel(api_key = API_KEY)\n",
    "                \n",
    "allowed_models = llm.allowed_models\n",
    "\n",
    "conversation = MaxSystemContextConversation()"
   ]
  },
  {
   "cell_type": "markdown",
   "id": "4d6fd09c-d905-4e9f-bdc8-d8091ad25ba6",
   "metadata": {},
   "source": [
    "# Instantiate Agent"
   ]
  },
  {
   "cell_type": "code",
   "execution_count": 13,
   "id": "b0629363-e056-47a0-9eae-059492e3bba3",
   "metadata": {},
   "outputs": [],
   "source": [
    "def load_model(model_name):\n",
    "    return GroqModel(api_key = os.getenv('API_KEY'), name= model_name)\n"
   ]
  },
  {
   "cell_type": "markdown",
   "id": "bd658589-5429-40ba-b343-56705a7c2d0f",
   "metadata": {},
   "source": [
    "# Type and Resource of Agent"
   ]
  },
  {
   "cell_type": "markdown",
   "id": "ffe99211-e478-4c6d-8305-59154461f071",
   "metadata": {},
   "source": [
    "# Serialization"
   ]
  },
  {
   "cell_type": "markdown",
   "id": "dd2f12fc-176a-48a8-911c-554785fcf5d0",
   "metadata": {},
   "source": [
    "# Agent Execution"
   ]
  },
  {
   "cell_type": "code",
   "execution_count": 14,
   "id": "0aa2b0f3-6668-46b5-afa8-2f2a5c123c95",
   "metadata": {},
   "outputs": [],
   "source": [
    "def converse(input_text, history, system_context, model_name):\n",
    "    print(\"system_context: \", system_context)\n",
    "    print(\"history: \", history)\n",
    "    print(\"Selected Model: \", model_name)\n",
    "\n",
    "    llm = load_model(model_name)\n",
    "\n",
    "    \n",
    "    agent = SimpleConversationAgent(llm=llm, \n",
    "        conversation=conversation\n",
    "    )\n",
    "\n",
    "    \n",
    "    agent.conversation.system_context = SystemMessage(content= system_context )\n",
    "    # \n",
    "\n",
    "    input_text = str(input_text)\n",
    "    print(\"Conversation: \", conversation.history)\n",
    "\n",
    "    # execute agent\n",
    "    result = agent.exec(input_text)\n",
    "    print(\"Result: \", result + \" type(result) \\n\\n\")\n",
    "\n",
    "    return str(result)\n",
    "    \n",
    "\n",
    "\n",
    "\n"
   ]
  },
  {
   "cell_type": "code",
   "execution_count": 5,
   "id": "de916027",
   "metadata": {},
   "outputs": [
    {
     "name": "stdout",
     "output_type": "stream",
     "text": [
      "Note: you may need to restart the kernel to use updated packages.\n"
     ]
    },
    {
     "name": "stderr",
     "output_type": "stream",
     "text": [
      "ERROR: pip's dependency resolver does not currently take into account all the packages that are installed. This behaviour is the source of the following dependency conflicts.\n",
      "weasel 0.3.4 requires typer<0.10.0,>=0.3.0, but you have typer 0.12.5 which is incompatible.\n",
      "\n",
      "[notice] A new release of pip is available: 24.0 -> 24.2\n",
      "[notice] To update, run: C:\\Users\\kivan\\AppData\\Local\\Microsoft\\WindowsApps\\PythonSoftwareFoundation.Python.3.11_qbz5n2kfra8p0\\python.exe -m pip install --upgrade pip\n"
     ]
    },
    {
     "name": "stdout",
     "output_type": "stream",
     "text": [
      "Collecting gradio\n",
      "  Using cached gradio-4.44.0-py3-none-any.whl.metadata (15 kB)\n",
      "Requirement already satisfied: aiofiles<24.0,>=22.0 in c:\\users\\kivan\\appdata\\local\\packages\\pythonsoftwarefoundation.python.3.11_qbz5n2kfra8p0\\localcache\\local-packages\\python311\\site-packages (from gradio) (23.2.1)\n",
      "Requirement already satisfied: anyio<5.0,>=3.0 in c:\\users\\kivan\\appdata\\local\\packages\\pythonsoftwarefoundation.python.3.11_qbz5n2kfra8p0\\localcache\\local-packages\\python311\\site-packages (from gradio) (4.4.0)\n",
      "Requirement already satisfied: fastapi<1.0 in c:\\users\\kivan\\appdata\\local\\packages\\pythonsoftwarefoundation.python.3.11_qbz5n2kfra8p0\\localcache\\local-packages\\python311\\site-packages (from gradio) (0.114.2)\n",
      "Requirement already satisfied: ffmpy in c:\\users\\kivan\\appdata\\local\\packages\\pythonsoftwarefoundation.python.3.11_qbz5n2kfra8p0\\localcache\\local-packages\\python311\\site-packages (from gradio) (0.4.0)\n",
      "Collecting gradio-client==1.3.0 (from gradio)\n",
      "  Using cached gradio_client-1.3.0-py3-none-any.whl.metadata (7.1 kB)\n",
      "Requirement already satisfied: httpx>=0.24.1 in c:\\users\\kivan\\appdata\\local\\packages\\pythonsoftwarefoundation.python.3.11_qbz5n2kfra8p0\\localcache\\local-packages\\python311\\site-packages (from gradio) (0.27.2)\n",
      "Requirement already satisfied: huggingface-hub>=0.19.3 in c:\\users\\kivan\\appdata\\local\\packages\\pythonsoftwarefoundation.python.3.11_qbz5n2kfra8p0\\localcache\\local-packages\\python311\\site-packages (from gradio) (0.24.7)\n",
      "Requirement already satisfied: importlib-resources<7.0,>=1.3 in c:\\users\\kivan\\appdata\\local\\packages\\pythonsoftwarefoundation.python.3.11_qbz5n2kfra8p0\\localcache\\local-packages\\python311\\site-packages (from gradio) (6.4.5)\n",
      "Requirement already satisfied: jinja2<4.0 in c:\\users\\kivan\\appdata\\local\\packages\\pythonsoftwarefoundation.python.3.11_qbz5n2kfra8p0\\localcache\\local-packages\\python311\\site-packages (from gradio) (3.1.4)\n",
      "Requirement already satisfied: markupsafe~=2.0 in c:\\users\\kivan\\appdata\\local\\packages\\pythonsoftwarefoundation.python.3.11_qbz5n2kfra8p0\\localcache\\local-packages\\python311\\site-packages (from gradio) (2.1.5)\n",
      "Requirement already satisfied: matplotlib~=3.0 in c:\\users\\kivan\\appdata\\local\\packages\\pythonsoftwarefoundation.python.3.11_qbz5n2kfra8p0\\localcache\\local-packages\\python311\\site-packages (from gradio) (3.9.2)\n",
      "Requirement already satisfied: numpy<3.0,>=1.0 in c:\\users\\kivan\\appdata\\local\\packages\\pythonsoftwarefoundation.python.3.11_qbz5n2kfra8p0\\localcache\\local-packages\\python311\\site-packages (from gradio) (1.26.4)\n",
      "Requirement already satisfied: orjson~=3.0 in c:\\users\\kivan\\appdata\\local\\packages\\pythonsoftwarefoundation.python.3.11_qbz5n2kfra8p0\\localcache\\local-packages\\python311\\site-packages (from gradio) (3.10.7)\n",
      "Requirement already satisfied: packaging in c:\\users\\kivan\\appdata\\local\\packages\\pythonsoftwarefoundation.python.3.11_qbz5n2kfra8p0\\localcache\\local-packages\\python311\\site-packages (from gradio) (24.1)\n",
      "Requirement already satisfied: pandas<3.0,>=1.0 in c:\\users\\kivan\\appdata\\local\\packages\\pythonsoftwarefoundation.python.3.11_qbz5n2kfra8p0\\localcache\\local-packages\\python311\\site-packages (from gradio) (2.2.2)\n",
      "Requirement already satisfied: pillow<11.0,>=8.0 in c:\\users\\kivan\\appdata\\local\\packages\\pythonsoftwarefoundation.python.3.11_qbz5n2kfra8p0\\localcache\\local-packages\\python311\\site-packages (from gradio) (10.4.0)\n",
      "Requirement already satisfied: pydantic>=2.0 in c:\\users\\kivan\\appdata\\local\\packages\\pythonsoftwarefoundation.python.3.11_qbz5n2kfra8p0\\localcache\\local-packages\\python311\\site-packages (from gradio) (2.8.2)\n",
      "Requirement already satisfied: pydub in c:\\users\\kivan\\appdata\\local\\packages\\pythonsoftwarefoundation.python.3.11_qbz5n2kfra8p0\\localcache\\local-packages\\python311\\site-packages (from gradio) (0.25.1)\n",
      "Requirement already satisfied: python-multipart>=0.0.9 in c:\\users\\kivan\\appdata\\local\\packages\\pythonsoftwarefoundation.python.3.11_qbz5n2kfra8p0\\localcache\\local-packages\\python311\\site-packages (from gradio) (0.0.9)\n",
      "Requirement already satisfied: pyyaml<7.0,>=5.0 in c:\\users\\kivan\\appdata\\local\\packages\\pythonsoftwarefoundation.python.3.11_qbz5n2kfra8p0\\localcache\\local-packages\\python311\\site-packages (from gradio) (6.0.2)\n",
      "Requirement already satisfied: ruff>=0.2.2 in c:\\users\\kivan\\appdata\\local\\packages\\pythonsoftwarefoundation.python.3.11_qbz5n2kfra8p0\\localcache\\local-packages\\python311\\site-packages (from gradio) (0.6.5)\n",
      "Requirement already satisfied: semantic-version~=2.0 in c:\\users\\kivan\\appdata\\local\\packages\\pythonsoftwarefoundation.python.3.11_qbz5n2kfra8p0\\localcache\\local-packages\\python311\\site-packages (from gradio) (2.10.0)\n",
      "Requirement already satisfied: tomlkit==0.12.0 in c:\\users\\kivan\\appdata\\local\\packages\\pythonsoftwarefoundation.python.3.11_qbz5n2kfra8p0\\localcache\\local-packages\\python311\\site-packages (from gradio) (0.12.0)\n",
      "Collecting typer<1.0,>=0.12 (from gradio)\n",
      "  Downloading typer-0.12.5-py3-none-any.whl.metadata (15 kB)\n",
      "Requirement already satisfied: typing-extensions~=4.0 in c:\\users\\kivan\\appdata\\local\\packages\\pythonsoftwarefoundation.python.3.11_qbz5n2kfra8p0\\localcache\\local-packages\\python311\\site-packages (from gradio) (4.12.2)\n",
      "Requirement already satisfied: urllib3~=2.0 in c:\\users\\kivan\\appdata\\local\\packages\\pythonsoftwarefoundation.python.3.11_qbz5n2kfra8p0\\localcache\\local-packages\\python311\\site-packages (from gradio) (2.2.3)\n",
      "Requirement already satisfied: uvicorn>=0.14.0 in c:\\users\\kivan\\appdata\\local\\packages\\pythonsoftwarefoundation.python.3.11_qbz5n2kfra8p0\\localcache\\local-packages\\python311\\site-packages (from gradio) (0.30.6)\n",
      "Requirement already satisfied: fsspec in c:\\users\\kivan\\appdata\\local\\packages\\pythonsoftwarefoundation.python.3.11_qbz5n2kfra8p0\\localcache\\local-packages\\python311\\site-packages (from gradio-client==1.3.0->gradio) (2024.9.0)\n",
      "Requirement already satisfied: websockets<13.0,>=10.0 in c:\\users\\kivan\\appdata\\local\\packages\\pythonsoftwarefoundation.python.3.11_qbz5n2kfra8p0\\localcache\\local-packages\\python311\\site-packages (from gradio-client==1.3.0->gradio) (11.0.3)\n",
      "Requirement already satisfied: idna>=2.8 in c:\\users\\kivan\\appdata\\local\\packages\\pythonsoftwarefoundation.python.3.11_qbz5n2kfra8p0\\localcache\\local-packages\\python311\\site-packages (from anyio<5.0,>=3.0->gradio) (3.10)\n",
      "Requirement already satisfied: sniffio>=1.1 in c:\\users\\kivan\\appdata\\local\\packages\\pythonsoftwarefoundation.python.3.11_qbz5n2kfra8p0\\localcache\\local-packages\\python311\\site-packages (from anyio<5.0,>=3.0->gradio) (1.3.1)\n",
      "Requirement already satisfied: starlette<0.39.0,>=0.37.2 in c:\\users\\kivan\\appdata\\local\\packages\\pythonsoftwarefoundation.python.3.11_qbz5n2kfra8p0\\localcache\\local-packages\\python311\\site-packages (from fastapi<1.0->gradio) (0.38.5)\n",
      "Requirement already satisfied: certifi in c:\\users\\kivan\\appdata\\local\\packages\\pythonsoftwarefoundation.python.3.11_qbz5n2kfra8p0\\localcache\\local-packages\\python311\\site-packages (from httpx>=0.24.1->gradio) (2024.8.30)\n",
      "Requirement already satisfied: httpcore==1.* in c:\\users\\kivan\\appdata\\local\\packages\\pythonsoftwarefoundation.python.3.11_qbz5n2kfra8p0\\localcache\\local-packages\\python311\\site-packages (from httpx>=0.24.1->gradio) (1.0.5)\n",
      "Requirement already satisfied: h11<0.15,>=0.13 in c:\\users\\kivan\\appdata\\local\\packages\\pythonsoftwarefoundation.python.3.11_qbz5n2kfra8p0\\localcache\\local-packages\\python311\\site-packages (from httpcore==1.*->httpx>=0.24.1->gradio) (0.14.0)\n",
      "Requirement already satisfied: filelock in c:\\users\\kivan\\appdata\\local\\packages\\pythonsoftwarefoundation.python.3.11_qbz5n2kfra8p0\\localcache\\local-packages\\python311\\site-packages (from huggingface-hub>=0.19.3->gradio) (3.16.0)\n",
      "Requirement already satisfied: requests in c:\\users\\kivan\\appdata\\local\\packages\\pythonsoftwarefoundation.python.3.11_qbz5n2kfra8p0\\localcache\\local-packages\\python311\\site-packages (from huggingface-hub>=0.19.3->gradio) (2.32.3)\n",
      "Requirement already satisfied: tqdm>=4.42.1 in c:\\users\\kivan\\appdata\\local\\packages\\pythonsoftwarefoundation.python.3.11_qbz5n2kfra8p0\\localcache\\local-packages\\python311\\site-packages (from huggingface-hub>=0.19.3->gradio) (4.66.5)\n",
      "Requirement already satisfied: contourpy>=1.0.1 in c:\\users\\kivan\\appdata\\local\\packages\\pythonsoftwarefoundation.python.3.11_qbz5n2kfra8p0\\localcache\\local-packages\\python311\\site-packages (from matplotlib~=3.0->gradio) (1.3.0)\n",
      "Requirement already satisfied: cycler>=0.10 in c:\\users\\kivan\\appdata\\local\\packages\\pythonsoftwarefoundation.python.3.11_qbz5n2kfra8p0\\localcache\\local-packages\\python311\\site-packages (from matplotlib~=3.0->gradio) (0.12.1)\n",
      "Requirement already satisfied: fonttools>=4.22.0 in c:\\users\\kivan\\appdata\\local\\packages\\pythonsoftwarefoundation.python.3.11_qbz5n2kfra8p0\\localcache\\local-packages\\python311\\site-packages (from matplotlib~=3.0->gradio) (4.53.1)\n",
      "Requirement already satisfied: kiwisolver>=1.3.1 in c:\\users\\kivan\\appdata\\local\\packages\\pythonsoftwarefoundation.python.3.11_qbz5n2kfra8p0\\localcache\\local-packages\\python311\\site-packages (from matplotlib~=3.0->gradio) (1.4.7)\n",
      "Requirement already satisfied: pyparsing>=2.3.1 in c:\\users\\kivan\\appdata\\local\\packages\\pythonsoftwarefoundation.python.3.11_qbz5n2kfra8p0\\localcache\\local-packages\\python311\\site-packages (from matplotlib~=3.0->gradio) (3.1.4)\n",
      "Requirement already satisfied: python-dateutil>=2.7 in c:\\users\\kivan\\appdata\\local\\packages\\pythonsoftwarefoundation.python.3.11_qbz5n2kfra8p0\\localcache\\local-packages\\python311\\site-packages (from matplotlib~=3.0->gradio) (2.9.0.post0)\n",
      "Requirement already satisfied: pytz>=2020.1 in c:\\users\\kivan\\appdata\\local\\packages\\pythonsoftwarefoundation.python.3.11_qbz5n2kfra8p0\\localcache\\local-packages\\python311\\site-packages (from pandas<3.0,>=1.0->gradio) (2024.2)\n",
      "Requirement already satisfied: tzdata>=2022.7 in c:\\users\\kivan\\appdata\\local\\packages\\pythonsoftwarefoundation.python.3.11_qbz5n2kfra8p0\\localcache\\local-packages\\python311\\site-packages (from pandas<3.0,>=1.0->gradio) (2024.1)\n",
      "Requirement already satisfied: annotated-types>=0.4.0 in c:\\users\\kivan\\appdata\\local\\packages\\pythonsoftwarefoundation.python.3.11_qbz5n2kfra8p0\\localcache\\local-packages\\python311\\site-packages (from pydantic>=2.0->gradio) (0.7.0)\n",
      "Requirement already satisfied: pydantic-core==2.20.1 in c:\\users\\kivan\\appdata\\local\\packages\\pythonsoftwarefoundation.python.3.11_qbz5n2kfra8p0\\localcache\\local-packages\\python311\\site-packages (from pydantic>=2.0->gradio) (2.20.1)\n",
      "Requirement already satisfied: click>=8.0.0 in c:\\users\\kivan\\appdata\\local\\packages\\pythonsoftwarefoundation.python.3.11_qbz5n2kfra8p0\\localcache\\local-packages\\python311\\site-packages (from typer<1.0,>=0.12->gradio) (8.1.7)\n",
      "Requirement already satisfied: shellingham>=1.3.0 in c:\\users\\kivan\\appdata\\local\\packages\\pythonsoftwarefoundation.python.3.11_qbz5n2kfra8p0\\localcache\\local-packages\\python311\\site-packages (from typer<1.0,>=0.12->gradio) (1.5.4)\n",
      "Requirement already satisfied: rich>=10.11.0 in c:\\users\\kivan\\appdata\\local\\packages\\pythonsoftwarefoundation.python.3.11_qbz5n2kfra8p0\\localcache\\local-packages\\python311\\site-packages (from typer<1.0,>=0.12->gradio) (13.8.1)\n",
      "Requirement already satisfied: colorama in c:\\users\\kivan\\appdata\\local\\packages\\pythonsoftwarefoundation.python.3.11_qbz5n2kfra8p0\\localcache\\local-packages\\python311\\site-packages (from click>=8.0.0->typer<1.0,>=0.12->gradio) (0.4.6)\n",
      "Requirement already satisfied: six>=1.5 in c:\\users\\kivan\\appdata\\local\\packages\\pythonsoftwarefoundation.python.3.11_qbz5n2kfra8p0\\localcache\\local-packages\\python311\\site-packages (from python-dateutil>=2.7->matplotlib~=3.0->gradio) (1.16.0)\n",
      "Requirement already satisfied: markdown-it-py>=2.2.0 in c:\\users\\kivan\\appdata\\local\\packages\\pythonsoftwarefoundation.python.3.11_qbz5n2kfra8p0\\localcache\\local-packages\\python311\\site-packages (from rich>=10.11.0->typer<1.0,>=0.12->gradio) (3.0.0)\n",
      "Requirement already satisfied: pygments<3.0.0,>=2.13.0 in c:\\users\\kivan\\appdata\\local\\packages\\pythonsoftwarefoundation.python.3.11_qbz5n2kfra8p0\\localcache\\local-packages\\python311\\site-packages (from rich>=10.11.0->typer<1.0,>=0.12->gradio) (2.18.0)\n",
      "Requirement already satisfied: charset-normalizer<4,>=2 in c:\\users\\kivan\\appdata\\local\\packages\\pythonsoftwarefoundation.python.3.11_qbz5n2kfra8p0\\localcache\\local-packages\\python311\\site-packages (from requests->huggingface-hub>=0.19.3->gradio) (3.3.2)\n",
      "Requirement already satisfied: mdurl~=0.1 in c:\\users\\kivan\\appdata\\local\\packages\\pythonsoftwarefoundation.python.3.11_qbz5n2kfra8p0\\localcache\\local-packages\\python311\\site-packages (from markdown-it-py>=2.2.0->rich>=10.11.0->typer<1.0,>=0.12->gradio) (0.1.2)\n",
      "Downloading gradio-4.44.0-py3-none-any.whl (18.1 MB)\n",
      "   ---------------------------------------- 0.0/18.1 MB ? eta -:--:--\n",
      "   ---------------------------------------- 0.0/18.1 MB ? eta -:--:--\n",
      "   ---------------------------------------- 0.1/18.1 MB 1.3 MB/s eta 0:00:14\n",
      "   ---------------------------------------- 0.2/18.1 MB 2.3 MB/s eta 0:00:08\n",
      "    --------------------------------------- 0.3/18.1 MB 2.5 MB/s eta 0:00:07\n",
      "   - -------------------------------------- 0.6/18.1 MB 3.1 MB/s eta 0:00:06\n",
      "   -- ------------------------------------- 1.0/18.1 MB 4.1 MB/s eta 0:00:05\n",
      "   --- ------------------------------------ 1.4/18.1 MB 4.8 MB/s eta 0:00:04\n",
      "   --- ------------------------------------ 1.8/18.1 MB 5.2 MB/s eta 0:00:04\n",
      "   ---- ----------------------------------- 2.2/18.1 MB 5.6 MB/s eta 0:00:03\n",
      "   ----- ---------------------------------- 2.6/18.1 MB 5.9 MB/s eta 0:00:03\n",
      "   ------ --------------------------------- 3.0/18.1 MB 6.1 MB/s eta 0:00:03\n",
      "   ------- -------------------------------- 3.4/18.1 MB 6.4 MB/s eta 0:00:03\n",
      "   ------- -------------------------------- 3.4/18.1 MB 5.9 MB/s eta 0:00:03\n",
      "   -------- ------------------------------- 3.8/18.1 MB 6.1 MB/s eta 0:00:03\n",
      "   --------- ------------------------------ 4.2/18.1 MB 6.3 MB/s eta 0:00:03\n",
      "   ---------- ----------------------------- 4.7/18.1 MB 6.5 MB/s eta 0:00:03\n",
      "   ----------- ---------------------------- 5.1/18.1 MB 6.6 MB/s eta 0:00:02\n",
      "   ------------ --------------------------- 5.5/18.1 MB 6.7 MB/s eta 0:00:02\n",
      "   ------------ --------------------------- 5.8/18.1 MB 6.8 MB/s eta 0:00:02\n",
      "   ------------- -------------------------- 6.2/18.1 MB 6.9 MB/s eta 0:00:02\n",
      "   -------------- ------------------------- 6.7/18.1 MB 7.0 MB/s eta 0:00:02\n",
      "   --------------- ------------------------ 7.1/18.1 MB 7.1 MB/s eta 0:00:02\n",
      "   ---------------- ----------------------- 7.5/18.1 MB 7.2 MB/s eta 0:00:02\n",
      "   ----------------- ---------------------- 7.9/18.1 MB 7.3 MB/s eta 0:00:02\n",
      "   ------------------ --------------------- 8.3/18.1 MB 7.4 MB/s eta 0:00:02\n",
      "   ------------------- -------------------- 8.8/18.1 MB 7.5 MB/s eta 0:00:02\n",
      "   -------------------- ------------------- 9.1/18.1 MB 7.5 MB/s eta 0:00:02\n",
      "   --------------------- ------------------ 9.6/18.1 MB 7.5 MB/s eta 0:00:02\n",
      "   ---------------------- ----------------- 10.0/18.1 MB 7.6 MB/s eta 0:00:02\n",
      "   ----------------------- ---------------- 10.5/18.1 MB 8.2 MB/s eta 0:00:01\n",
      "   ------------------------ --------------- 10.9/18.1 MB 8.5 MB/s eta 0:00:01\n",
      "   ------------------------- -------------- 11.3/18.1 MB 8.5 MB/s eta 0:00:01\n",
      "   -------------------------- ------------- 11.8/18.1 MB 8.6 MB/s eta 0:00:01\n",
      "   --------------------------- ------------ 12.2/18.1 MB 8.6 MB/s eta 0:00:01\n",
      "   --------------------------- ------------ 12.5/18.1 MB 8.5 MB/s eta 0:00:01\n",
      "   ---------------------------- ----------- 13.0/18.1 MB 8.6 MB/s eta 0:00:01\n",
      "   ----------------------------- ---------- 13.4/18.1 MB 8.6 MB/s eta 0:00:01\n",
      "   ------------------------------ --------- 13.8/18.1 MB 9.0 MB/s eta 0:00:01\n",
      "   ------------------------------- -------- 14.3/18.1 MB 9.1 MB/s eta 0:00:01\n",
      "   -------------------------------- ------- 14.8/18.1 MB 9.1 MB/s eta 0:00:01\n",
      "   --------------------------------- ------ 15.3/18.1 MB 9.2 MB/s eta 0:00:01\n",
      "   ---------------------------------- ----- 15.7/18.1 MB 9.4 MB/s eta 0:00:01\n",
      "   ----------------------------------- ---- 16.2/18.1 MB 9.4 MB/s eta 0:00:01\n",
      "   ------------------------------------ --- 16.7/18.1 MB 9.4 MB/s eta 0:00:01\n",
      "   ------------------------------------- -- 17.2/18.1 MB 9.4 MB/s eta 0:00:01\n",
      "   ---------------------------------------  17.6/18.1 MB 9.5 MB/s eta 0:00:01\n",
      "   ---------------------------------------  18.1/18.1 MB 9.5 MB/s eta 0:00:01\n",
      "   ---------------------------------------- 18.1/18.1 MB 9.2 MB/s eta 0:00:00\n",
      "Downloading gradio_client-1.3.0-py3-none-any.whl (318 kB)\n",
      "   ---------------------------------------- 0.0/318.7 kB ? eta -:--:--\n",
      "   ---------------------------------------- 318.7/318.7 kB 9.9 MB/s eta 0:00:00\n",
      "Downloading typer-0.12.5-py3-none-any.whl (47 kB)\n",
      "   ---------------------------------------- 0.0/47.3 kB ? eta -:--:--\n",
      "   ---------------------------------------- 47.3/47.3 kB ? eta 0:00:00\n",
      "Installing collected packages: typer, gradio-client, gradio\n",
      "  Attempting uninstall: typer\n",
      "    Found existing installation: typer 0.9.4\n",
      "    Uninstalling typer-0.9.4:\n",
      "      Successfully uninstalled typer-0.9.4\n",
      "  Attempting uninstall: gradio-client\n",
      "    Found existing installation: gradio_client 0.15.1\n",
      "    Uninstalling gradio_client-0.15.1:\n",
      "      Successfully uninstalled gradio_client-0.15.1\n",
      "Successfully installed gradio-4.44.0 gradio-client-1.3.0 typer-0.12.5\n"
     ]
    }
   ],
   "source": [
    "pip install gradio\n"
   ]
  },
  {
   "cell_type": "code",
   "execution_count": 22,
   "id": "241437de",
   "metadata": {},
   "outputs": [],
   "source": [
    "import gradio as gr\n",
    "\n",
    "demo = gr.Interface(\n",
    "    fn=converse,\n",
    "    inputs=[\n",
    "        gr.Textbox(label=\"Input Text\"),\n",
    "        gr.Textbox(label=\"History\"),\n",
    "    ],\n",
    "    additional_inputs=[\n",
    "        gr.Textbox(label=\"System Context\"),\n",
    "        gr.Dropdown(label=\"Model Name\", choices=allowed_models, value=allowed_models[0])\n",
    "    ],\n",
    "    outputs=[\n",
    "        gr.Textbox(label=\"Output\")\n",
    "    ],\n",
    "    title= \"Max System Conversation\",\n",
    "    description= \"This is a demo of the Max System Conversation. You can use this to converse with the Max System.\"\n",
    ")\n",
    "\n",
    "\n"
   ]
  },
  {
   "cell_type": "code",
   "execution_count": 23,
   "id": "358b72a9",
   "metadata": {},
   "outputs": [
    {
     "name": "stdout",
     "output_type": "stream",
     "text": [
      "Running on local URL:  http://127.0.0.1:7864\n",
      "\n",
      "To create a public link, set `share=True` in `launch()`.\n"
     ]
    },
    {
     "data": {
      "text/html": [
       "<div><iframe src=\"http://127.0.0.1:7864/\" width=\"100%\" height=\"500\" allow=\"autoplay; camera; microphone; clipboard-read; clipboard-write;\" frameborder=\"0\" allowfullscreen></iframe></div>"
      ],
      "text/plain": [
       "<IPython.core.display.HTML object>"
      ]
     },
     "metadata": {},
     "output_type": "display_data"
    },
    {
     "name": "stdout",
     "output_type": "stream",
     "text": [
      "system_context:  \n",
      "history:  \n",
      "Selected Model:  llama3-8b-8192\n",
      "Conversation:  [SystemMessage(name=None, id='428aec35-4c0f-4e33-bcd1-d2d01fe89188', members=[], owner=None, host=None, resource='Message', version='0.1.0', type='SystemMessage', content='', role='system'), HumanMessage(name=None, id='ec31b392-c67e-48cf-9de4-9a961c56d3c0', members=[], owner=None, host=None, resource='Message', version='0.1.0', type='HumanMessage', content='how blockchain different than traditional database', role='user'), AgentMessage(name=None, id='2fe9a6be-ce59-4159-a56f-11760c253330', members=[], owner=None, host=None, resource='Message', version='0.1.0', type='AgentMessage', content='Blockchain and traditional databases share some similarities, but they have distinct differences in terms of architecture, design, and functionality. Here are some key differences:\\n\\n1. **Decentralized vs. Centralized**: Blockchain is a decentralized system, meaning that it is not controlled by a single entity or central authority. Data is distributed across a network of nodes, and transactions are recorded on a public ledger. Traditional databases, on the other hand, are typically centralized, with a single point of control and data storage.\\n2. **Immutable vs. Editable**: Blockchain data is immutable, meaning that once recorded, it cannot be altered or deleted. Traditional databases, however, allow for data updates and modifications.\\n3. **Consensus Mechanism**: Blockchain networks use consensus mechanisms, such as proof-of-work (PoW) or proof-of-stake (PoS), to validate transactions and ensure the integrity of the network. Traditional databases rely on a single authority to validate and update data.\\n4. **Data Storage**: Blockchain data is stored in a series of linked blocks, each containing a set of transactions. Traditional databases store data in a hierarchical structure, with tables, rows, and columns.\\n5. **Data Consistency**: Blockchain ensures data consistency through the use of consensus mechanisms and cryptographic techniques.', role='assistant', usage=None)]\n",
      "Result:   Traditional databases rely on locks and transactions to ensure data consistency.\n",
      "6. **Scalability**: Blockchain networks are designed to be scalable, with the ability to process a large number of transactions per second. Traditional databases can struggle with scalability, especially as data grows.\n",
      "7. **Security**: Blockchain's decentralized nature and cryptographic techniques provide an additional layer of security, making it more difficult for hackers to manipulate data. Traditional databases rely on security measures such as firewalls, access controls, and encryption.\n",
      "8. **Data Ownership**: In a blockchain network, data ownership is distributed among nodes, and users have control over their own data. In traditional databases, data ownership is typically controlled by the database administrator or organization.\n",
      "9. **Data Access**: Blockchain networks use public-key cryptography to secure data access, while traditional databases rely on username/password combinations or other authentication methods.\n",
      "10. **Smart Contracts**: Blockchain allows for the creation of smart contracts, which are self-executing contracts with set rules and regulations. Traditional databases do not support smart contracts.\n",
      "11. **Data Retention**: Blockchain networks are designed to retain data indefinitely, as once recorded, it cannot be deleted. Traditional databases typically have data retention policies and may delete or archive data over time.\n",
      "12. **Data Querying**: Blockchain networks type(result) \n",
      "\n",
      "\n",
      "system_context:  \n",
      "history:  \n",
      "Selected Model:  llama3-8b-8192\n",
      "Conversation:  [SystemMessage(name=None, id='6a996ec0-226b-4257-ab95-77419989583e', members=[], owner=None, host=None, resource='Message', version='0.1.0', type='SystemMessage', content='', role='system'), HumanMessage(name=None, id='6e54db76-554c-41a5-a147-bdcc8a7794b8', members=[], owner=None, host=None, resource='Message', version='0.1.0', type='HumanMessage', content='how blockchain different than traditional database', role='user'), AgentMessage(name=None, id='081cf7c4-3fdf-47e5-bdce-b71cd9f9fcbc', members=[], owner=None, host=None, resource='Message', version='0.1.0', type='AgentMessage', content=\" Traditional databases rely on locks and transactions to ensure data consistency.\\n6. **Scalability**: Blockchain networks are designed to be scalable, with the ability to process a large number of transactions per second. Traditional databases can struggle with scalability, especially as data grows.\\n7. **Security**: Blockchain's decentralized nature and cryptographic techniques provide an additional layer of security, making it more difficult for hackers to manipulate data. Traditional databases rely on security measures such as firewalls, access controls, and encryption.\\n8. **Data Ownership**: In a blockchain network, data ownership is distributed among nodes, and users have control over their own data. In traditional databases, data ownership is typically controlled by the database administrator or organization.\\n9. **Data Access**: Blockchain networks use public-key cryptography to secure data access, while traditional databases rely on username/password combinations or other authentication methods.\\n10. **Smart Contracts**: Blockchain allows for the creation of smart contracts, which are self-executing contracts with set rules and regulations. Traditional databases do not support smart contracts.\\n11. **Data Retention**: Blockchain networks are designed to retain data indefinitely, as once recorded, it cannot be deleted. Traditional databases typically have data retention policies and may delete or archive data over time.\\n12. **Data Querying**: Blockchain networks\", role='assistant', usage=None)]\n",
      "Result:   use a different querying approach, often based on hash functions and distributed networks. Traditional databases use SQL queries to retrieve and manipulate data.\n",
      "\n",
      "Here are some key differences between blockchain and traditional databases:\n",
      "\n",
      "1. **Data Structure**: Blockchain uses a distributed ledger, where data is stored in a chain of blocks, while traditional databases use a centralized storage system.\n",
      "2. **Data Consistency**: Blockchain ensures data consistency through a consensus mechanism, while traditional databases use locks and transactions to ensure data consistency.\n",
      "3. **Data Ownership**: Blockchain distributes data ownership among nodes, while traditional databases typically have a central authority controlling data ownership.\n",
      "4. **Data Access**: Blockchain uses public-key cryptography to secure data access, while traditional databases rely on username/password combinations or other authentication methods.\n",
      "5. **Data Retention**: Blockchain networks are designed to retain data indefinitely, while traditional databases typically have data retention policies and may delete or archive data over time.\n",
      "\n",
      "In summary, blockchain and traditional databases serve different purposes and have distinct characteristics. Blockchain is designed for decentralized, secure, and transparent data storage, while traditional databases are designed for centralized, scalable, and efficient data storage. type(result) \n",
      "\n",
      "\n",
      "system_context:  \n",
      "history:  \n",
      "Selected Model:  llama3-8b-8192\n",
      "Conversation:  [SystemMessage(name=None, id='0736cec4-5061-4cb3-8870-fbc58fa94d14', members=[], owner=None, host=None, resource='Message', version='0.1.0', type='SystemMessage', content='', role='system'), HumanMessage(name=None, id='f8b863bb-ded4-4b9f-8d14-ffe2bab47f7f', members=[], owner=None, host=None, resource='Message', version='0.1.0', type='HumanMessage', content='how blockchain smart contract get data from real world database', role='user'), AgentMessage(name=None, id='b1742b7b-0d4b-4ef5-8013-35e953c5d2e3', members=[], owner=None, host=None, resource='Message', version='0.1.0', type='AgentMessage', content=' use a different querying approach, often based on hash functions and distributed networks. Traditional databases use SQL queries to retrieve and manipulate data.\\n\\nHere are some key differences between blockchain and traditional databases:\\n\\n1. **Data Structure**: Blockchain uses a distributed ledger, where data is stored in a chain of blocks, while traditional databases use a centralized storage system.\\n2. **Data Consistency**: Blockchain ensures data consistency through a consensus mechanism, while traditional databases use locks and transactions to ensure data consistency.\\n3. **Data Ownership**: Blockchain distributes data ownership among nodes, while traditional databases typically have a central authority controlling data ownership.\\n4. **Data Access**: Blockchain uses public-key cryptography to secure data access, while traditional databases rely on username/password combinations or other authentication methods.\\n5. **Data Retention**: Blockchain networks are designed to retain data indefinitely, while traditional databases typically have data retention policies and may delete or archive data over time.\\n\\nIn summary, blockchain and traditional databases serve different purposes and have distinct characteristics. Blockchain is designed for decentralized, secure, and transparent data storage, while traditional databases are designed for centralized, scalable, and efficient data storage.', role='assistant', usage=None)]\n",
      "Result:   type(result) \n",
      "\n",
      "\n",
      "system_context:  \n",
      "history:  \n",
      "Selected Model:  llama3-8b-8192\n",
      "Conversation:  [SystemMessage(name=None, id='1397e48c-7003-421c-b972-8da3cfa2bb87', members=[], owner=None, host=None, resource='Message', version='0.1.0', type='SystemMessage', content='', role='system'), HumanMessage(name=None, id='af77eccf-37a5-4086-8714-1f26fd0d7377', members=[], owner=None, host=None, resource='Message', version='0.1.0', type='HumanMessage', content='how blockchain smart contract work', role='user'), AgentMessage(name=None, id='1ef7ef4a-e907-4cac-a95a-7e6bff8d4f1e', members=[], owner=None, host=None, resource='Message', version='0.1.0', type='AgentMessage', content='', role='assistant', usage=None)]\n",
      "Result:  A great topic!\n",
      "\n",
      "**What is a Smart Contract?**\n",
      "\n",
      "A smart contract is a self-executing program that automates the enforcement and execution of a specific set of rules or agreements between two or more parties. It's called \"smart\" because it's a computer program that can execute tasks and make decisions on its own, without the need for intermediaries.\n",
      "\n",
      "**How Does a Smart Contract Work?**\n",
      "\n",
      "Here's a step-by-step explanation of how a smart contract works:\n",
      "\n",
      "1. **Deployment**: A developer writes and deploys a smart contract to a blockchain network, such as Ethereum. The contract is essentially a set of instructions that define the rules and logic for a specific agreement or process.\n",
      "2. **Trigger**: When a specific event or trigger occurs, the smart contract is executed. This could be a payment, a transaction, or a specific condition being met.\n",
      "3. **Verification**: The smart contract verifies that the trigger event has occurred and that the conditions specified in the contract have been met.\n",
      "4. **Execution**: If the verification is successful, the smart contract executes the pre-defined actions or tasks. This can include transferring assets, updating records, or sending notifications.\n",
      "5. **Immutable**: The smart contract's execution is recorded on the blockchain, making it immutable and type(result) \n",
      "\n",
      "\n",
      "system_context:  i am expert in MongoDb and Postgres DB, I need to see how blockchain work\n",
      "history:  \n",
      "Selected Model:  llama3-8b-8192\n",
      "Conversation:  [SystemMessage(name=None, id='638a8430-14ed-4ad8-bb66-4f306026d1a4', members=[], owner=None, host=None, resource='Message', version='0.1.0', type='SystemMessage', content='i am expert in MongoDb and Postgres DB, I need to see how blockchain work', role='system'), HumanMessage(name=None, id='e5b9a144-28f6-4948-84ba-c8522ae49721', members=[], owner=None, host=None, resource='Message', version='0.1.0', type='HumanMessage', content='how blockchain smart contract work', role='user'), AgentMessage(name=None, id='95ff3227-9265-462b-b4b5-689fddfbb65c', members=[], owner=None, host=None, resource='Message', version='0.1.0', type='AgentMessage', content='A great topic!\\n\\n**What is a Smart Contract?**\\n\\nA smart contract is a self-executing program that automates the enforcement and execution of a specific set of rules or agreements between two or more parties. It\\'s called \"smart\" because it\\'s a computer program that can execute tasks and make decisions on its own, without the need for intermediaries.\\n\\n**How Does a Smart Contract Work?**\\n\\nHere\\'s a step-by-step explanation of how a smart contract works:\\n\\n1. **Deployment**: A developer writes and deploys a smart contract to a blockchain network, such as Ethereum. The contract is essentially a set of instructions that define the rules and logic for a specific agreement or process.\\n2. **Trigger**: When a specific event or trigger occurs, the smart contract is executed. This could be a payment, a transaction, or a specific condition being met.\\n3. **Verification**: The smart contract verifies that the trigger event has occurred and that the conditions specified in the contract have been met.\\n4. **Execution**: If the verification is successful, the smart contract executes the pre-defined actions or tasks. This can include transferring assets, updating records, or sending notifications.\\n5. **Immutable**: The smart contract\\'s execution is recorded on the blockchain, making it immutable and', role='assistant', usage=None)]\n",
      "Result:   transparent.\n",
      "\n",
      "**Key Components of a Smart Contract:**\n",
      "\n",
      "1. **Code**: The smart contract's code is written in a programming language, such as Solidity (Ethereum), and defines the rules and logic for the contract.\n",
      "2. **Variables**: The contract has variables that store data and are used to determine the outcome of the contract.\n",
      "3. **Functions**: The contract has functions that execute specific tasks or actions.\n",
      "4. **Events**: The contract emits events that trigger other contracts or external applications.\n",
      "\n",
      "**Blockchain and Smart Contracts:**\n",
      "\n",
      "Here's how blockchain technology enables smart contracts:\n",
      "\n",
      "1. **Decentralized**: Smart contracts are executed on a decentralized network, allowing for trustless and secure transactions.\n",
      "2. **Immutable**: The blockchain's immutable ledger ensures that the contract's execution is permanent and tamper-proof.\n",
      "3. **Transparent**: All transactions and contract executions are recorded on the blockchain, making it transparent and publicly accessible.\n",
      "4. **Security**: The blockchain's consensus mechanism ensures that the contract's execution is secure and resistant to tampering or manipulation.\n",
      "\n",
      "**Real-World Examples of Smart Contracts:**\n",
      "\n",
      "1. **Supply Chain Management**: A smart contract can be used to track products through a supply chain, ensuring authenticity and provenance.\n",
      "2. **Digital type(result) \n",
      "\n",
      "\n"
     ]
    }
   ],
   "source": [
    "if __name__ == \"__main__\":\n",
    "    demo.launch()"
   ]
  }
 ],
 "metadata": {
  "kernelspec": {
   "display_name": "Python 3 (ipykernel)",
   "language": "python",
   "name": "python3"
  },
  "language_info": {
   "codemirror_mode": {
    "name": "ipython",
    "version": 3
   },
   "file_extension": ".py",
   "mimetype": "text/x-python",
   "name": "python",
   "nbconvert_exporter": "python",
   "pygments_lexer": "ipython3",
   "version": "3.11.9"
  }
 },
 "nbformat": 4,
 "nbformat_minor": 5
}
