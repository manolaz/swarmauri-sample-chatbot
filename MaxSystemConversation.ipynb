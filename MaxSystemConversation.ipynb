{
 "cells": [
  {
   "cell_type": "markdown",
   "id": "b928702c-b0bd-4971-8e0b-5592f6122c15",
   "metadata": {},
   "source": [
    "# Import Dependencies"
   ]
  },
  {
   "cell_type": "code",
   "execution_count": 12,
   "id": "7f4e7207-eec7-40b6-b2cb-3090eb6cf0e9",
   "metadata": {},
   "outputs": [],
   "source": [
    "from swarmauri.standard.llms.concrete.GroqModel import GroqModel\n",
    "from swarmauri.standard.conversations.concrete.MaxSystemContextConversation import MaxSystemContextConversation\n",
    "from swarmauri.standard.vector_stores.concrete.TfidfVectorStore import TfidfVectorStore\n",
    "from swarmauri.standard.messages.concrete.SystemMessage import SystemMessage\n",
    "from swarmauri.standard.documents.concrete.Document import Document\n",
    "from swarmauri.standard.agents.concrete.SimpleConversationAgent import SimpleConversationAgent\n",
    "import os \n",
    "from dotenv import load_dotenv \n",
    "load_dotenv(); "
   ]
  },
  {
   "cell_type": "code",
   "execution_count": null,
   "id": "b0679690",
   "metadata": {},
   "outputs": [],
   "source": [
    "\n"
   ]
  },
  {
   "cell_type": "code",
   "execution_count": 8,
   "id": "47c50b1d",
   "metadata": {},
   "outputs": [],
   "source": [
    "API_KEY = os.getenv('API_KEY')\n",
    "llm = GroqModel(api_key = API_KEY)\n",
    "                \n",
    "allowed_models = llm.allowed_models\n",
    "\n",
    "conversation = MaxSystemContextConversation()"
   ]
  },
  {
   "cell_type": "markdown",
   "id": "4d6fd09c-d905-4e9f-bdc8-d8091ad25ba6",
   "metadata": {},
   "source": [
    "# Instantiate Agent"
   ]
  },
  {
   "cell_type": "code",
   "execution_count": 13,
   "id": "b0629363-e056-47a0-9eae-059492e3bba3",
   "metadata": {},
   "outputs": [],
   "source": [
    "def load_model(model_name):\n",
    "    return GroqModel(api_key = os.getenv('API_KEY'), name= model_name)\n"
   ]
  },
  {
   "cell_type": "markdown",
   "id": "bd658589-5429-40ba-b343-56705a7c2d0f",
   "metadata": {},
   "source": [
    "# Type and Resource of Agent"
   ]
  },
  {
   "cell_type": "markdown",
   "id": "ffe99211-e478-4c6d-8305-59154461f071",
   "metadata": {},
   "source": [
    "# Serialization"
   ]
  },
  {
   "cell_type": "markdown",
   "id": "dd2f12fc-176a-48a8-911c-554785fcf5d0",
   "metadata": {},
   "source": [
    "# Agent Execution"
   ]
  },
  {
   "cell_type": "code",
   "execution_count": 14,
   "id": "0aa2b0f3-6668-46b5-afa8-2f2a5c123c95",
   "metadata": {},
   "outputs": [],
   "source": [
    "def converse(input_text, history, system_context, model_name):\n",
    "    print(\"system_context: \", system_context)\n",
    "    print(\"history: \", history)\n",
    "    print(\"Selected Model: \", model_name)\n",
    "\n",
    "    llm = load_model(model_name)\n",
    "\n",
    "    \n",
    "    agent = SimpleConversationAgent(llm=llm, \n",
    "        conversation=conversation\n",
    "    )\n",
    "\n",
    "    \n",
    "    agent.conversation.system_context = SystemMessage(content= system_context )\n",
    "    # \n",
    "\n",
    "    input_text = str(input_text)\n",
    "    print(\"Conversation: \", conversation.history)\n",
    "\n",
    "    # execute agent\n",
    "    result = agent.exec(input_text)\n",
    "    print(\"Result: \", result + \" type(result) \\n\\n\")\n",
    "\n",
    "    return str(result)\n",
    "    \n",
    "\n",
    "\n",
    "\n"
   ]
  },
  {
   "cell_type": "code",
   "execution_count": 5,
   "id": "de916027",
   "metadata": {},
   "outputs": [
    {
     "name": "stdout",
     "output_type": "stream",
     "text": [
      "Note: you may need to restart the kernel to use updated packages.\n"
     ]
    },
    {
     "name": "stderr",
     "output_type": "stream",
     "text": [
      "ERROR: pip's dependency resolver does not currently take into account all the packages that are installed. This behaviour is the source of the following dependency conflicts.\n",
      "weasel 0.3.4 requires typer<0.10.0,>=0.3.0, but you have typer 0.12.5 which is incompatible.\n",
      "\n",
      "[notice] A new release of pip is available: 24.0 -> 24.2\n",
      "[notice] To update, run: C:\\Users\\kivan\\AppData\\Local\\Microsoft\\WindowsApps\\PythonSoftwareFoundation.Python.3.11_qbz5n2kfra8p0\\python.exe -m pip install --upgrade pip\n"
     ]
    },
    {
     "name": "stdout",
     "output_type": "stream",
     "text": [
      "Collecting gradio\n",
      "  Using cached gradio-4.44.0-py3-none-any.whl.metadata (15 kB)\n",
      "Requirement already satisfied: aiofiles<24.0,>=22.0 in c:\\users\\kivan\\appdata\\local\\packages\\pythonsoftwarefoundation.python.3.11_qbz5n2kfra8p0\\localcache\\local-packages\\python311\\site-packages (from gradio) (23.2.1)\n",
      "Requirement already satisfied: anyio<5.0,>=3.0 in c:\\users\\kivan\\appdata\\local\\packages\\pythonsoftwarefoundation.python.3.11_qbz5n2kfra8p0\\localcache\\local-packages\\python311\\site-packages (from gradio) (4.4.0)\n",
      "Requirement already satisfied: fastapi<1.0 in c:\\users\\kivan\\appdata\\local\\packages\\pythonsoftwarefoundation.python.3.11_qbz5n2kfra8p0\\localcache\\local-packages\\python311\\site-packages (from gradio) (0.114.2)\n",
      "Requirement already satisfied: ffmpy in c:\\users\\kivan\\appdata\\local\\packages\\pythonsoftwarefoundation.python.3.11_qbz5n2kfra8p0\\localcache\\local-packages\\python311\\site-packages (from gradio) (0.4.0)\n",
      "Collecting gradio-client==1.3.0 (from gradio)\n",
      "  Using cached gradio_client-1.3.0-py3-none-any.whl.metadata (7.1 kB)\n",
      "Requirement already satisfied: httpx>=0.24.1 in c:\\users\\kivan\\appdata\\local\\packages\\pythonsoftwarefoundation.python.3.11_qbz5n2kfra8p0\\localcache\\local-packages\\python311\\site-packages (from gradio) (0.27.2)\n",
      "Requirement already satisfied: huggingface-hub>=0.19.3 in c:\\users\\kivan\\appdata\\local\\packages\\pythonsoftwarefoundation.python.3.11_qbz5n2kfra8p0\\localcache\\local-packages\\python311\\site-packages (from gradio) (0.24.7)\n",
      "Requirement already satisfied: importlib-resources<7.0,>=1.3 in c:\\users\\kivan\\appdata\\local\\packages\\pythonsoftwarefoundation.python.3.11_qbz5n2kfra8p0\\localcache\\local-packages\\python311\\site-packages (from gradio) (6.4.5)\n",
      "Requirement already satisfied: jinja2<4.0 in c:\\users\\kivan\\appdata\\local\\packages\\pythonsoftwarefoundation.python.3.11_qbz5n2kfra8p0\\localcache\\local-packages\\python311\\site-packages (from gradio) (3.1.4)\n",
      "Requirement already satisfied: markupsafe~=2.0 in c:\\users\\kivan\\appdata\\local\\packages\\pythonsoftwarefoundation.python.3.11_qbz5n2kfra8p0\\localcache\\local-packages\\python311\\site-packages (from gradio) (2.1.5)\n",
      "Requirement already satisfied: matplotlib~=3.0 in c:\\users\\kivan\\appdata\\local\\packages\\pythonsoftwarefoundation.python.3.11_qbz5n2kfra8p0\\localcache\\local-packages\\python311\\site-packages (from gradio) (3.9.2)\n",
      "Requirement already satisfied: numpy<3.0,>=1.0 in c:\\users\\kivan\\appdata\\local\\packages\\pythonsoftwarefoundation.python.3.11_qbz5n2kfra8p0\\localcache\\local-packages\\python311\\site-packages (from gradio) (1.26.4)\n",
      "Requirement already satisfied: orjson~=3.0 in c:\\users\\kivan\\appdata\\local\\packages\\pythonsoftwarefoundation.python.3.11_qbz5n2kfra8p0\\localcache\\local-packages\\python311\\site-packages (from gradio) (3.10.7)\n",
      "Requirement already satisfied: packaging in c:\\users\\kivan\\appdata\\local\\packages\\pythonsoftwarefoundation.python.3.11_qbz5n2kfra8p0\\localcache\\local-packages\\python311\\site-packages (from gradio) (24.1)\n",
      "Requirement already satisfied: pandas<3.0,>=1.0 in c:\\users\\kivan\\appdata\\local\\packages\\pythonsoftwarefoundation.python.3.11_qbz5n2kfra8p0\\localcache\\local-packages\\python311\\site-packages (from gradio) (2.2.2)\n",
      "Requirement already satisfied: pillow<11.0,>=8.0 in c:\\users\\kivan\\appdata\\local\\packages\\pythonsoftwarefoundation.python.3.11_qbz5n2kfra8p0\\localcache\\local-packages\\python311\\site-packages (from gradio) (10.4.0)\n",
      "Requirement already satisfied: pydantic>=2.0 in c:\\users\\kivan\\appdata\\local\\packages\\pythonsoftwarefoundation.python.3.11_qbz5n2kfra8p0\\localcache\\local-packages\\python311\\site-packages (from gradio) (2.8.2)\n",
      "Requirement already satisfied: pydub in c:\\users\\kivan\\appdata\\local\\packages\\pythonsoftwarefoundation.python.3.11_qbz5n2kfra8p0\\localcache\\local-packages\\python311\\site-packages (from gradio) (0.25.1)\n",
      "Requirement already satisfied: python-multipart>=0.0.9 in c:\\users\\kivan\\appdata\\local\\packages\\pythonsoftwarefoundation.python.3.11_qbz5n2kfra8p0\\localcache\\local-packages\\python311\\site-packages (from gradio) (0.0.9)\n",
      "Requirement already satisfied: pyyaml<7.0,>=5.0 in c:\\users\\kivan\\appdata\\local\\packages\\pythonsoftwarefoundation.python.3.11_qbz5n2kfra8p0\\localcache\\local-packages\\python311\\site-packages (from gradio) (6.0.2)\n",
      "Requirement already satisfied: ruff>=0.2.2 in c:\\users\\kivan\\appdata\\local\\packages\\pythonsoftwarefoundation.python.3.11_qbz5n2kfra8p0\\localcache\\local-packages\\python311\\site-packages (from gradio) (0.6.5)\n",
      "Requirement already satisfied: semantic-version~=2.0 in c:\\users\\kivan\\appdata\\local\\packages\\pythonsoftwarefoundation.python.3.11_qbz5n2kfra8p0\\localcache\\local-packages\\python311\\site-packages (from gradio) (2.10.0)\n",
      "Requirement already satisfied: tomlkit==0.12.0 in c:\\users\\kivan\\appdata\\local\\packages\\pythonsoftwarefoundation.python.3.11_qbz5n2kfra8p0\\localcache\\local-packages\\python311\\site-packages (from gradio) (0.12.0)\n",
      "Collecting typer<1.0,>=0.12 (from gradio)\n",
      "  Downloading typer-0.12.5-py3-none-any.whl.metadata (15 kB)\n",
      "Requirement already satisfied: typing-extensions~=4.0 in c:\\users\\kivan\\appdata\\local\\packages\\pythonsoftwarefoundation.python.3.11_qbz5n2kfra8p0\\localcache\\local-packages\\python311\\site-packages (from gradio) (4.12.2)\n",
      "Requirement already satisfied: urllib3~=2.0 in c:\\users\\kivan\\appdata\\local\\packages\\pythonsoftwarefoundation.python.3.11_qbz5n2kfra8p0\\localcache\\local-packages\\python311\\site-packages (from gradio) (2.2.3)\n",
      "Requirement already satisfied: uvicorn>=0.14.0 in c:\\users\\kivan\\appdata\\local\\packages\\pythonsoftwarefoundation.python.3.11_qbz5n2kfra8p0\\localcache\\local-packages\\python311\\site-packages (from gradio) (0.30.6)\n",
      "Requirement already satisfied: fsspec in c:\\users\\kivan\\appdata\\local\\packages\\pythonsoftwarefoundation.python.3.11_qbz5n2kfra8p0\\localcache\\local-packages\\python311\\site-packages (from gradio-client==1.3.0->gradio) (2024.9.0)\n",
      "Requirement already satisfied: websockets<13.0,>=10.0 in c:\\users\\kivan\\appdata\\local\\packages\\pythonsoftwarefoundation.python.3.11_qbz5n2kfra8p0\\localcache\\local-packages\\python311\\site-packages (from gradio-client==1.3.0->gradio) (11.0.3)\n",
      "Requirement already satisfied: idna>=2.8 in c:\\users\\kivan\\appdata\\local\\packages\\pythonsoftwarefoundation.python.3.11_qbz5n2kfra8p0\\localcache\\local-packages\\python311\\site-packages (from anyio<5.0,>=3.0->gradio) (3.10)\n",
      "Requirement already satisfied: sniffio>=1.1 in c:\\users\\kivan\\appdata\\local\\packages\\pythonsoftwarefoundation.python.3.11_qbz5n2kfra8p0\\localcache\\local-packages\\python311\\site-packages (from anyio<5.0,>=3.0->gradio) (1.3.1)\n",
      "Requirement already satisfied: starlette<0.39.0,>=0.37.2 in c:\\users\\kivan\\appdata\\local\\packages\\pythonsoftwarefoundation.python.3.11_qbz5n2kfra8p0\\localcache\\local-packages\\python311\\site-packages (from fastapi<1.0->gradio) (0.38.5)\n",
      "Requirement already satisfied: certifi in c:\\users\\kivan\\appdata\\local\\packages\\pythonsoftwarefoundation.python.3.11_qbz5n2kfra8p0\\localcache\\local-packages\\python311\\site-packages (from httpx>=0.24.1->gradio) (2024.8.30)\n",
      "Requirement already satisfied: httpcore==1.* in c:\\users\\kivan\\appdata\\local\\packages\\pythonsoftwarefoundation.python.3.11_qbz5n2kfra8p0\\localcache\\local-packages\\python311\\site-packages (from httpx>=0.24.1->gradio) (1.0.5)\n",
      "Requirement already satisfied: h11<0.15,>=0.13 in c:\\users\\kivan\\appdata\\local\\packages\\pythonsoftwarefoundation.python.3.11_qbz5n2kfra8p0\\localcache\\local-packages\\python311\\site-packages (from httpcore==1.*->httpx>=0.24.1->gradio) (0.14.0)\n",
      "Requirement already satisfied: filelock in c:\\users\\kivan\\appdata\\local\\packages\\pythonsoftwarefoundation.python.3.11_qbz5n2kfra8p0\\localcache\\local-packages\\python311\\site-packages (from huggingface-hub>=0.19.3->gradio) (3.16.0)\n",
      "Requirement already satisfied: requests in c:\\users\\kivan\\appdata\\local\\packages\\pythonsoftwarefoundation.python.3.11_qbz5n2kfra8p0\\localcache\\local-packages\\python311\\site-packages (from huggingface-hub>=0.19.3->gradio) (2.32.3)\n",
      "Requirement already satisfied: tqdm>=4.42.1 in c:\\users\\kivan\\appdata\\local\\packages\\pythonsoftwarefoundation.python.3.11_qbz5n2kfra8p0\\localcache\\local-packages\\python311\\site-packages (from huggingface-hub>=0.19.3->gradio) (4.66.5)\n",
      "Requirement already satisfied: contourpy>=1.0.1 in c:\\users\\kivan\\appdata\\local\\packages\\pythonsoftwarefoundation.python.3.11_qbz5n2kfra8p0\\localcache\\local-packages\\python311\\site-packages (from matplotlib~=3.0->gradio) (1.3.0)\n",
      "Requirement already satisfied: cycler>=0.10 in c:\\users\\kivan\\appdata\\local\\packages\\pythonsoftwarefoundation.python.3.11_qbz5n2kfra8p0\\localcache\\local-packages\\python311\\site-packages (from matplotlib~=3.0->gradio) (0.12.1)\n",
      "Requirement already satisfied: fonttools>=4.22.0 in c:\\users\\kivan\\appdata\\local\\packages\\pythonsoftwarefoundation.python.3.11_qbz5n2kfra8p0\\localcache\\local-packages\\python311\\site-packages (from matplotlib~=3.0->gradio) (4.53.1)\n",
      "Requirement already satisfied: kiwisolver>=1.3.1 in c:\\users\\kivan\\appdata\\local\\packages\\pythonsoftwarefoundation.python.3.11_qbz5n2kfra8p0\\localcache\\local-packages\\python311\\site-packages (from matplotlib~=3.0->gradio) (1.4.7)\n",
      "Requirement already satisfied: pyparsing>=2.3.1 in c:\\users\\kivan\\appdata\\local\\packages\\pythonsoftwarefoundation.python.3.11_qbz5n2kfra8p0\\localcache\\local-packages\\python311\\site-packages (from matplotlib~=3.0->gradio) (3.1.4)\n",
      "Requirement already satisfied: python-dateutil>=2.7 in c:\\users\\kivan\\appdata\\local\\packages\\pythonsoftwarefoundation.python.3.11_qbz5n2kfra8p0\\localcache\\local-packages\\python311\\site-packages (from matplotlib~=3.0->gradio) (2.9.0.post0)\n",
      "Requirement already satisfied: pytz>=2020.1 in c:\\users\\kivan\\appdata\\local\\packages\\pythonsoftwarefoundation.python.3.11_qbz5n2kfra8p0\\localcache\\local-packages\\python311\\site-packages (from pandas<3.0,>=1.0->gradio) (2024.2)\n",
      "Requirement already satisfied: tzdata>=2022.7 in c:\\users\\kivan\\appdata\\local\\packages\\pythonsoftwarefoundation.python.3.11_qbz5n2kfra8p0\\localcache\\local-packages\\python311\\site-packages (from pandas<3.0,>=1.0->gradio) (2024.1)\n",
      "Requirement already satisfied: annotated-types>=0.4.0 in c:\\users\\kivan\\appdata\\local\\packages\\pythonsoftwarefoundation.python.3.11_qbz5n2kfra8p0\\localcache\\local-packages\\python311\\site-packages (from pydantic>=2.0->gradio) (0.7.0)\n",
      "Requirement already satisfied: pydantic-core==2.20.1 in c:\\users\\kivan\\appdata\\local\\packages\\pythonsoftwarefoundation.python.3.11_qbz5n2kfra8p0\\localcache\\local-packages\\python311\\site-packages (from pydantic>=2.0->gradio) (2.20.1)\n",
      "Requirement already satisfied: click>=8.0.0 in c:\\users\\kivan\\appdata\\local\\packages\\pythonsoftwarefoundation.python.3.11_qbz5n2kfra8p0\\localcache\\local-packages\\python311\\site-packages (from typer<1.0,>=0.12->gradio) (8.1.7)\n",
      "Requirement already satisfied: shellingham>=1.3.0 in c:\\users\\kivan\\appdata\\local\\packages\\pythonsoftwarefoundation.python.3.11_qbz5n2kfra8p0\\localcache\\local-packages\\python311\\site-packages (from typer<1.0,>=0.12->gradio) (1.5.4)\n",
      "Requirement already satisfied: rich>=10.11.0 in c:\\users\\kivan\\appdata\\local\\packages\\pythonsoftwarefoundation.python.3.11_qbz5n2kfra8p0\\localcache\\local-packages\\python311\\site-packages (from typer<1.0,>=0.12->gradio) (13.8.1)\n",
      "Requirement already satisfied: colorama in c:\\users\\kivan\\appdata\\local\\packages\\pythonsoftwarefoundation.python.3.11_qbz5n2kfra8p0\\localcache\\local-packages\\python311\\site-packages (from click>=8.0.0->typer<1.0,>=0.12->gradio) (0.4.6)\n",
      "Requirement already satisfied: six>=1.5 in c:\\users\\kivan\\appdata\\local\\packages\\pythonsoftwarefoundation.python.3.11_qbz5n2kfra8p0\\localcache\\local-packages\\python311\\site-packages (from python-dateutil>=2.7->matplotlib~=3.0->gradio) (1.16.0)\n",
      "Requirement already satisfied: markdown-it-py>=2.2.0 in c:\\users\\kivan\\appdata\\local\\packages\\pythonsoftwarefoundation.python.3.11_qbz5n2kfra8p0\\localcache\\local-packages\\python311\\site-packages (from rich>=10.11.0->typer<1.0,>=0.12->gradio) (3.0.0)\n",
      "Requirement already satisfied: pygments<3.0.0,>=2.13.0 in c:\\users\\kivan\\appdata\\local\\packages\\pythonsoftwarefoundation.python.3.11_qbz5n2kfra8p0\\localcache\\local-packages\\python311\\site-packages (from rich>=10.11.0->typer<1.0,>=0.12->gradio) (2.18.0)\n",
      "Requirement already satisfied: charset-normalizer<4,>=2 in c:\\users\\kivan\\appdata\\local\\packages\\pythonsoftwarefoundation.python.3.11_qbz5n2kfra8p0\\localcache\\local-packages\\python311\\site-packages (from requests->huggingface-hub>=0.19.3->gradio) (3.3.2)\n",
      "Requirement already satisfied: mdurl~=0.1 in c:\\users\\kivan\\appdata\\local\\packages\\pythonsoftwarefoundation.python.3.11_qbz5n2kfra8p0\\localcache\\local-packages\\python311\\site-packages (from markdown-it-py>=2.2.0->rich>=10.11.0->typer<1.0,>=0.12->gradio) (0.1.2)\n",
      "Downloading gradio-4.44.0-py3-none-any.whl (18.1 MB)\n",
      "   ---------------------------------------- 0.0/18.1 MB ? eta -:--:--\n",
      "   ---------------------------------------- 0.0/18.1 MB ? eta -:--:--\n",
      "   ---------------------------------------- 0.1/18.1 MB 1.3 MB/s eta 0:00:14\n",
      "   ---------------------------------------- 0.2/18.1 MB 2.3 MB/s eta 0:00:08\n",
      "    --------------------------------------- 0.3/18.1 MB 2.5 MB/s eta 0:00:07\n",
      "   - -------------------------------------- 0.6/18.1 MB 3.1 MB/s eta 0:00:06\n",
      "   -- ------------------------------------- 1.0/18.1 MB 4.1 MB/s eta 0:00:05\n",
      "   --- ------------------------------------ 1.4/18.1 MB 4.8 MB/s eta 0:00:04\n",
      "   --- ------------------------------------ 1.8/18.1 MB 5.2 MB/s eta 0:00:04\n",
      "   ---- ----------------------------------- 2.2/18.1 MB 5.6 MB/s eta 0:00:03\n",
      "   ----- ---------------------------------- 2.6/18.1 MB 5.9 MB/s eta 0:00:03\n",
      "   ------ --------------------------------- 3.0/18.1 MB 6.1 MB/s eta 0:00:03\n",
      "   ------- -------------------------------- 3.4/18.1 MB 6.4 MB/s eta 0:00:03\n",
      "   ------- -------------------------------- 3.4/18.1 MB 5.9 MB/s eta 0:00:03\n",
      "   -------- ------------------------------- 3.8/18.1 MB 6.1 MB/s eta 0:00:03\n",
      "   --------- ------------------------------ 4.2/18.1 MB 6.3 MB/s eta 0:00:03\n",
      "   ---------- ----------------------------- 4.7/18.1 MB 6.5 MB/s eta 0:00:03\n",
      "   ----------- ---------------------------- 5.1/18.1 MB 6.6 MB/s eta 0:00:02\n",
      "   ------------ --------------------------- 5.5/18.1 MB 6.7 MB/s eta 0:00:02\n",
      "   ------------ --------------------------- 5.8/18.1 MB 6.8 MB/s eta 0:00:02\n",
      "   ------------- -------------------------- 6.2/18.1 MB 6.9 MB/s eta 0:00:02\n",
      "   -------------- ------------------------- 6.7/18.1 MB 7.0 MB/s eta 0:00:02\n",
      "   --------------- ------------------------ 7.1/18.1 MB 7.1 MB/s eta 0:00:02\n",
      "   ---------------- ----------------------- 7.5/18.1 MB 7.2 MB/s eta 0:00:02\n",
      "   ----------------- ---------------------- 7.9/18.1 MB 7.3 MB/s eta 0:00:02\n",
      "   ------------------ --------------------- 8.3/18.1 MB 7.4 MB/s eta 0:00:02\n",
      "   ------------------- -------------------- 8.8/18.1 MB 7.5 MB/s eta 0:00:02\n",
      "   -------------------- ------------------- 9.1/18.1 MB 7.5 MB/s eta 0:00:02\n",
      "   --------------------- ------------------ 9.6/18.1 MB 7.5 MB/s eta 0:00:02\n",
      "   ---------------------- ----------------- 10.0/18.1 MB 7.6 MB/s eta 0:00:02\n",
      "   ----------------------- ---------------- 10.5/18.1 MB 8.2 MB/s eta 0:00:01\n",
      "   ------------------------ --------------- 10.9/18.1 MB 8.5 MB/s eta 0:00:01\n",
      "   ------------------------- -------------- 11.3/18.1 MB 8.5 MB/s eta 0:00:01\n",
      "   -------------------------- ------------- 11.8/18.1 MB 8.6 MB/s eta 0:00:01\n",
      "   --------------------------- ------------ 12.2/18.1 MB 8.6 MB/s eta 0:00:01\n",
      "   --------------------------- ------------ 12.5/18.1 MB 8.5 MB/s eta 0:00:01\n",
      "   ---------------------------- ----------- 13.0/18.1 MB 8.6 MB/s eta 0:00:01\n",
      "   ----------------------------- ---------- 13.4/18.1 MB 8.6 MB/s eta 0:00:01\n",
      "   ------------------------------ --------- 13.8/18.1 MB 9.0 MB/s eta 0:00:01\n",
      "   ------------------------------- -------- 14.3/18.1 MB 9.1 MB/s eta 0:00:01\n",
      "   -------------------------------- ------- 14.8/18.1 MB 9.1 MB/s eta 0:00:01\n",
      "   --------------------------------- ------ 15.3/18.1 MB 9.2 MB/s eta 0:00:01\n",
      "   ---------------------------------- ----- 15.7/18.1 MB 9.4 MB/s eta 0:00:01\n",
      "   ----------------------------------- ---- 16.2/18.1 MB 9.4 MB/s eta 0:00:01\n",
      "   ------------------------------------ --- 16.7/18.1 MB 9.4 MB/s eta 0:00:01\n",
      "   ------------------------------------- -- 17.2/18.1 MB 9.4 MB/s eta 0:00:01\n",
      "   ---------------------------------------  17.6/18.1 MB 9.5 MB/s eta 0:00:01\n",
      "   ---------------------------------------  18.1/18.1 MB 9.5 MB/s eta 0:00:01\n",
      "   ---------------------------------------- 18.1/18.1 MB 9.2 MB/s eta 0:00:00\n",
      "Downloading gradio_client-1.3.0-py3-none-any.whl (318 kB)\n",
      "   ---------------------------------------- 0.0/318.7 kB ? eta -:--:--\n",
      "   ---------------------------------------- 318.7/318.7 kB 9.9 MB/s eta 0:00:00\n",
      "Downloading typer-0.12.5-py3-none-any.whl (47 kB)\n",
      "   ---------------------------------------- 0.0/47.3 kB ? eta -:--:--\n",
      "   ---------------------------------------- 47.3/47.3 kB ? eta 0:00:00\n",
      "Installing collected packages: typer, gradio-client, gradio\n",
      "  Attempting uninstall: typer\n",
      "    Found existing installation: typer 0.9.4\n",
      "    Uninstalling typer-0.9.4:\n",
      "      Successfully uninstalled typer-0.9.4\n",
      "  Attempting uninstall: gradio-client\n",
      "    Found existing installation: gradio_client 0.15.1\n",
      "    Uninstalling gradio_client-0.15.1:\n",
      "      Successfully uninstalled gradio_client-0.15.1\n",
      "Successfully installed gradio-4.44.0 gradio-client-1.3.0 typer-0.12.5\n"
     ]
    }
   ],
   "source": [
    "pip install gradio\n"
   ]
  },
  {
   "cell_type": "code",
   "execution_count": 17,
   "id": "241437de",
   "metadata": {},
   "outputs": [],
   "source": [
    "import gradio as gr\n",
    "\n",
    "demo = gr.Interface(\n",
    "    fn=converse,\n",
    "    inputs=[\n",
    "        gr.Textbox(label=\"System Context\"),\n",
    "        gr.Dropdown(label=\"Model Name\", choices=allowed_models, value=allowed_models[0])\n",
    "    ],\n",
    "    additional_inputs=[\n",
    "        gr.Textbox(label=\"System Context\"),\n",
    "        gr.Dropdown(label=\"Model Name\", choices=allowed_models, value=allowed_models[0])\n",
    "    ],\n",
    "    outputs=[\n",
    "        gr.Textbox(label=\"Output\")\n",
    "    ],\n",
    "    title= \"Max System Conversation\",\n",
    "    description= \"This is a demo of the Max System Conversation. You can use this to converse with the Max System.\"\n",
    ")\n",
    "\n",
    "\n"
   ]
  },
  {
   "cell_type": "code",
   "execution_count": 18,
   "id": "358b72a9",
   "metadata": {},
   "outputs": [
    {
     "name": "stdout",
     "output_type": "stream",
     "text": [
      "Running on local URL:  http://127.0.0.1:7862\n",
      "\n",
      "To create a public link, set `share=True` in `launch()`.\n"
     ]
    },
    {
     "data": {
      "text/html": [
       "<div><iframe src=\"http://127.0.0.1:7862/\" width=\"100%\" height=\"500\" allow=\"autoplay; camera; microphone; clipboard-read; clipboard-write;\" frameborder=\"0\" allowfullscreen></iframe></div>"
      ],
      "text/plain": [
       "<IPython.core.display.HTML object>"
      ]
     },
     "metadata": {},
     "output_type": "display_data"
    },
    {
     "name": "stdout",
     "output_type": "stream",
     "text": [
      "system_context:  \n",
      "history:  llama3-8b-8192\n",
      "Selected Model:  llama3-8b-8192\n",
      "Conversation:  [SystemMessage(name=None, id='bad124a4-1294-4a15-8571-af0d3f8f74ff', members=[], owner=None, host=None, resource='Message', version='0.1.0', type='SystemMessage', content='', role='system')]\n",
      "Result:  Blockchain and traditional databases share some similarities, but they have distinct differences in terms of architecture, design, and functionality. Here are some key differences:\n",
      "\n",
      "1. **Decentralized vs. Centralized**: Blockchain is a decentralized system, meaning that it is not controlled by a single entity or central authority. Data is distributed across a network of nodes, and transactions are recorded on a public ledger. Traditional databases, on the other hand, are typically centralized, with a single point of control and data storage.\n",
      "2. **Immutable vs. Editable**: Blockchain data is immutable, meaning that once recorded, it cannot be altered or deleted. Traditional databases, however, allow for data updates and modifications.\n",
      "3. **Consensus Mechanism**: Blockchain networks use consensus mechanisms, such as proof-of-work (PoW) or proof-of-stake (PoS), to validate transactions and ensure the integrity of the network. Traditional databases rely on a single authority to validate and update data.\n",
      "4. **Data Storage**: Blockchain data is stored in a series of linked blocks, each containing a set of transactions. Traditional databases store data in a hierarchical structure, with tables, rows, and columns.\n",
      "5. **Data Consistency**: Blockchain ensures data consistency through the use of consensus mechanisms and cryptographic techniques. type(result) \n",
      "\n",
      "\n"
     ]
    }
   ],
   "source": [
    "if __name__ == \"__main__\":\n",
    "    demo.launch()"
   ]
  }
 ],
 "metadata": {
  "kernelspec": {
   "display_name": "Python 3 (ipykernel)",
   "language": "python",
   "name": "python3"
  },
  "language_info": {
   "codemirror_mode": {
    "name": "ipython",
    "version": 3
   },
   "file_extension": ".py",
   "mimetype": "text/x-python",
   "name": "python",
   "nbconvert_exporter": "python",
   "pygments_lexer": "ipython3",
   "version": "3.11.9"
  }
 },
 "nbformat": 4,
 "nbformat_minor": 5
}
